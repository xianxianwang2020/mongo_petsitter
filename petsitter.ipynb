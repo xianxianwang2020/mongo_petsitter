{
 "cells": [
  {
   "cell_type": "code",
   "execution_count": null,
   "id": "ee442cdc-eea2-4b62-b1d3-400f4a12e4cc",
   "metadata": {},
   "outputs": [],
   "source": [
    "import urllib3,json, pymongo\n",
    "# open username and password from another file.\n",
    "with open('C:\\\\Users\\\\xianx\\\\Documents\\\\credentials.json') as f:\n",
    "          data = json.load(f)\n",
    "          username=data['username']\n",
    "          password=data['password']\n",
    "          mongo_conn_str=data['mongodb']\n",
    "\n",
    "# connect to database  and verify it working. Can print lots stuff\n",
    "client=pymongo.MongoClient(mongo_conn_str)\n",
    "db=client.admin\n",
    "serverStatusResult=db.command(\"serverStatus\")\n",
    "print(serverStatusResult)\n"
   ]
  },
  {
   "cell_type": "code",
   "execution_count": null,
   "id": "27b8abbe-9ae9-44cc-9439-ed8a0cb0a92c",
   "metadata": {},
   "outputs": [],
   "source": []
  },
  {
   "cell_type": "code",
   "execution_count": null,
   "id": "a048cded-8431-4544-9568-f0530c3d45ff",
   "metadata": {},
   "outputs": [],
   "source": []
  },
  {
   "cell_type": "code",
   "execution_count": null,
   "id": "2e086bae-f6cb-4f7a-8110-a39c809bbc98",
   "metadata": {},
   "outputs": [],
   "source": []
  }
 ],
 "metadata": {
  "kernelspec": {
   "display_name": "Python 3 (ipykernel)",
   "language": "python",
   "name": "python3"
  },
  "language_info": {
   "codemirror_mode": {
    "name": "ipython",
    "version": 3
   },
   "file_extension": ".py",
   "mimetype": "text/x-python",
   "name": "python",
   "nbconvert_exporter": "python",
   "pygments_lexer": "ipython3",
   "version": "3.9.8"
  }
 },
 "nbformat": 4,
 "nbformat_minor": 5
}
