{
 "cells": [
  {
   "cell_type": "code",
   "execution_count": 57,
   "id": "ee442cdc-eea2-4b62-b1d3-400f4a12e4cc",
   "metadata": {},
   "outputs": [],
   "source": [
    "import urllib3,json, pymongo,certifi,datetime\n",
    "from datetime import datetime, timezone\n",
    "# open username and password from another file.\n",
    "with open('C:\\\\Users\\\\xianx\\\\Documents\\\\credentials.json') as f:\n",
    "          data = json.load(f)\n",
    "          #username=data['username']\n",
    "          #password=data['password']\n",
    "          mongo_conn_str=data['mongodb']\n",
    "\n",
    "# connect to database  and verify it working. Can print lots stuff\n",
    "client=pymongo.MongoClient(mongo_conn_str,tlsAllowInvalidCertificates=True)\n",
    "# specify the database\n",
    "#db=client.admin\n",
    "db=client[\"petsitter\"]\n",
    "serverStatusResult=db.command(\"serverStatus\")\n",
    "#print(serverStatusResult)\n"
   ]
  },
  {
   "cell_type": "code",
   "execution_count": 63,
   "id": "27b8abbe-9ae9-44cc-9439-ed8a0cb0a92c",
   "metadata": {},
   "outputs": [
    {
     "ename": "KeyError",
     "evalue": "'species'",
     "output_type": "error",
     "traceback": [
      "\u001b[1;31m---------------------------------------------------------------------------\u001b[0m",
      "\u001b[1;31mKeyError\u001b[0m                                  Traceback (most recent call last)",
      "\u001b[1;32m~\\AppData\\Local\\Temp/ipykernel_7660/3387128714.py\u001b[0m in \u001b[0;36m<module>\u001b[1;34m\u001b[0m\n\u001b[0;32m     10\u001b[0m \u001b[1;33m\u001b[0m\u001b[0m\n\u001b[0;32m     11\u001b[0m \u001b[1;32mfor\u001b[0m \u001b[0mdoc\u001b[0m \u001b[1;32min\u001b[0m \u001b[0mresult1\u001b[0m\u001b[1;33m:\u001b[0m\u001b[1;33m\u001b[0m\u001b[1;33m\u001b[0m\u001b[0m\n\u001b[1;32m---> 12\u001b[1;33m     \u001b[0mprint\u001b[0m\u001b[1;33m(\u001b[0m\u001b[0mdoc\u001b[0m\u001b[1;33m[\u001b[0m\u001b[1;34m'species'\u001b[0m\u001b[1;33m]\u001b[0m\u001b[1;33m+\u001b[0m\u001b[1;34m\" \"\u001b[0m\u001b[1;33m+\u001b[0m\u001b[0mdoc\u001b[0m\u001b[1;33m[\u001b[0m\u001b[1;34m'name'\u001b[0m\u001b[1;33m]\u001b[0m\u001b[1;33m+\u001b[0m\u001b[1;34m' : '\u001b[0m\u001b[1;33m+\u001b[0m\u001b[0mstr\u001b[0m\u001b[1;33m(\u001b[0m\u001b[0mdoc\u001b[0m\u001b[1;33m[\u001b[0m\u001b[1;34m'birthday'\u001b[0m\u001b[1;33m]\u001b[0m\u001b[1;33m)\u001b[0m\u001b[1;33m[\u001b[0m\u001b[1;33m:\u001b[0m\u001b[1;33m-\u001b[0m\u001b[1;36m15\u001b[0m\u001b[1;33m]\u001b[0m\u001b[1;33m)\u001b[0m\u001b[1;33m\u001b[0m\u001b[1;33m\u001b[0m\u001b[0m\n\u001b[0m\u001b[0;32m     13\u001b[0m      \u001b[1;31m#print(doc)\u001b[0m\u001b[1;33m\u001b[0m\u001b[1;33m\u001b[0m\u001b[0m\n\u001b[0;32m     14\u001b[0m \u001b[0mprint\u001b[0m\u001b[1;33m(\u001b[0m\u001b[0mresult\u001b[0m\u001b[1;33m)\u001b[0m\u001b[1;33m\u001b[0m\u001b[1;33m\u001b[0m\u001b[0m\n",
      "\u001b[1;31mKeyError\u001b[0m: 'species'"
     ]
    }
   ],
   "source": [
    "collection=db[\"petsitter\"]\n",
    "filter={\n",
    "    'species': 'Dog', \n",
    "    'birthday': {\n",
    "        '$lt': datetime(2011, 11, 10, 0, 0, 0)\n",
    "                }\n",
    "       }\n",
    "result=collection.find_one(filter=filter)\n",
    "result1=collection.find().sort('name')\n",
    "\n",
    "for doc in result1:\n",
    "    print(doc['species']+\" \"+doc['name']+' : '+str(doc['birthday'])[:-15])\n",
    "     #print(doc)\n",
    "print(result)\n"
   ]
  },
  {
   "cell_type": "code",
   "execution_count": null,
   "id": "a048cded-8431-4544-9568-f0530c3d45ff",
   "metadata": {},
   "outputs": [],
   "source": []
  },
  {
   "cell_type": "code",
   "execution_count": null,
   "id": "2e086bae-f6cb-4f7a-8110-a39c809bbc98",
   "metadata": {},
   "outputs": [],
   "source": []
  },
  {
   "cell_type": "code",
   "execution_count": null,
   "id": "2b6a3913-e6a4-448f-98ea-cb75ac89fe8d",
   "metadata": {},
   "outputs": [],
   "source": []
  }
 ],
 "metadata": {
  "kernelspec": {
   "display_name": "Python 3 (ipykernel)",
   "language": "python",
   "name": "python3"
  },
  "language_info": {
   "codemirror_mode": {
    "name": "ipython",
    "version": 3
   },
   "file_extension": ".py",
   "mimetype": "text/x-python",
   "name": "python",
   "nbconvert_exporter": "python",
   "pygments_lexer": "ipython3",
   "version": "3.9.8"
  }
 },
 "nbformat": 4,
 "nbformat_minor": 5
}
