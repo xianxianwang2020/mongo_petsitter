{
 "cells": [
  {
   "cell_type": "code",
   "execution_count": 1,
   "id": "178c9ad1-2f7c-46cd-b7ce-924dffa7024b",
   "metadata": {},
   "outputs": [
    {
     "name": "stdout",
     "output_type": "stream",
     "text": [
      "{'host': 'cluster0-shard-00-01.hobnm.mongodb.net:27017', 'version': '4.4.10', 'process': 'mongod', 'pid': 1701, 'uptime': 216181.0, 'uptimeMillis': 216181686, 'uptimeEstimate': 216181, 'localTime': datetime.datetime(2021, 11, 11, 7, 17, 15, 754000), 'asserts': {'regular': 0, 'warning': 0, 'msg': 0, 'user': 0, 'rollovers': 0}, 'connections': {'current': 13, 'available': 487, 'totalCreated': 311}, 'extra_info': {'note': 'fields vary by platform', 'page_faults': 0}, 'network': {'bytesIn': 38440588, 'bytesOut': 286764395, 'numRequests': 13639}, 'opcounters': {'insert': 270, 'query': 372, 'update': 0, 'delete': 0, 'getmore': 29, 'command': 12921}, 'opcountersRepl': {'insert': 0, 'query': 0, 'update': 0, 'delete': 0, 'getmore': 0, 'command': 0}, 'repl': {'topologyVersion': {'processId': ObjectId('61897706d1130d9530e86856'), 'counter': 6}, 'hosts': ['cluster0-shard-00-00.hobnm.mongodb.net:27017', 'cluster0-shard-00-01.hobnm.mongodb.net:27017', 'cluster0-shard-00-02.hobnm.mongodb.net:27017'], 'setName': 'atlas-10uwpn-shard-0', 'setVersion': 6, 'ismaster': True, 'secondary': False, 'primary': 'cluster0-shard-00-01.hobnm.mongodb.net:27017', 'tags': {'region': 'US_EAST_1', 'provider': 'AWS', 'workloadType': 'OPERATIONAL', 'nodeType': 'ELECTABLE'}, 'me': 'cluster0-shard-00-01.hobnm.mongodb.net:27017', 'electionId': ObjectId('7fffffff000000000000005b'), 'lastWrite': {'opTime': {'ts': Timestamp(1636615035, 7), 't': 91}, 'lastWriteDate': datetime.datetime(2021, 11, 11, 7, 17, 15), 'majorityOpTime': {'ts': Timestamp(1636615035, 7), 't': 91}, 'majorityWriteDate': datetime.datetime(2021, 11, 11, 7, 17, 15)}, 'rbid': 1}, 'storageEngine': {'name': 'wiredTiger', 'supportsCommittedReads': True, 'oldestRequiredTimestampForCrashRecovery': Timestamp(1636614998, 5), 'supportsPendingDrops': True, 'dropPendingIdents': 0, 'supportsTwoPhaseIndexBuild': True, 'supportsSnapshotReadConcern': True, 'readOnly': False, 'persistent': True, 'backupCursorOpen': False}, 'mem': {'bits': 64, 'resident': 0, 'virtual': 0, 'supported': True, 'mapped': 0, 'mappedWithJournal': 0}, 'metrics': {'aggStageCounters': {'search': 0, 'searchBeta': 0}, 'atlas': {'connectionPool': {'totalCreated': 47568}}}, 'ok': 1.0, '$clusterTime': {'clusterTime': Timestamp(1636615035, 7), 'signature': {'hash': b'&\\xb7\\xdev\\xf2&\\xd6I!b$\\x97\\xf5\\x9f\\xe2B\\x88\\x15\\xe5\\x7f', 'keyId': 6968874996592541697}}, 'operationTime': Timestamp(1636615035, 7), 'opLatencies': {'reads': {'latency': 11805804, 'ops': 750}, 'writes': {'latency': 3374136, 'ops': 270}, 'commands': {'latency': 116762592606, 'ops': 12549}}, 'atlasVersion': {'version': '20211027.0.0.1634935068', 'gitVersion': '438fb41196e737d1aedcff6aac76f3e7895653ac'}}\n"
     ]
    }
   ],
   "source": [
    "import urllib3,json, pymongo,certifi,datetime\n",
    "from datetime import datetime, timezone\n",
    "from operator import itemgetter\n",
    "# open username and password from another file.\n",
    "with open('C:\\\\Users\\\\xianx\\\\Documents\\\\credentials.json') as f:\n",
    "          data = json.load(f)\n",
    "          #username=data['username']\n",
    "          #password=data['password']\n",
    "          mongo_conn_str=data['mongodb']\n",
    "\n",
    "# connect to database  and verify it working. Can print lots stuff\n",
    "client=pymongo.MongoClient(mongo_conn_str,tlsAllowInvalidCertificates=True)\n",
    "#db=client.admin()\n",
    "# specify the database\n",
    "db=client[\"petsitters\"]\n",
    "serverStatusResult=db.command(\"serverStatus\")\n",
    "print(serverStatusResult)\n"
   ]
  },
  {
   "cell_type": "code",
   "execution_count": 2,
   "id": "4af29318-d3d5-46cc-a778-08b478ef43c2",
   "metadata": {},
   "outputs": [
    {
     "name": "stdout",
     "output_type": "stream",
     "text": [
      "Below are the top 10 eldest Pets in Data\n",
      "\u001b[1mName       Species      Gender     Birthday\u001b[0m\n",
      "Leo        Dog           F       2010-05-17 \n",
      "Olive        Bird           F       2010-05-17 \n",
      "Lola        Dog           M       2010-05-17 \n",
      "Remi        Bird           M       2010-05-17 \n",
      "Bear        Dog           F       2010-05-17 \n",
      "Ella        Bird           F       2010-05-17 \n",
      "Winston        Bird           F       2010-05-17 \n",
      "Rex        Dog           M       2010-05-17 \n",
      "Georgia        Bird           F       2010-05-17 \n",
      "Mac        Cat           F       2010-05-17 \n"
     ]
    }
   ],
   "source": [
    "pets_collection=db['pets']\n",
    "#find all pets with sorted birthday\n",
    "pets=pets_collection.find().sort('birthday')\n",
    "old_pets=pets[:10]\n",
    "\n",
    "# print out the oldest pets\n",
    "print (\"Below are the top 10 eldest Pets in Data\")\n",
    "print('\\033[1m'+\"Name       Species      Gender     Birthday\"+'\\033[0m')\n",
    "for pet in old_pets:\n",
    "          print(pet['name']+'        '+pet['species']+'           '+pet['gender']+'       '+str(pet['birthday'])[:-15])"
   ]
  },
  {
   "cell_type": "code",
   "execution_count": 3,
   "id": "b9b115da-9b84-481c-aeb8-64618b0a2901",
   "metadata": {},
   "outputs": [
    {
     "name": "stdout",
     "output_type": "stream",
     "text": [
      "One of the young dog is : \n",
      "Romeo, and it was born on 2020-04-05 \n"
     ]
    }
   ],
   "source": [
    "# set filter\n",
    "filter={\n",
    "    'species': 'Dog', \n",
    "    'birthday': {\n",
    "        '$gte': datetime(2020, 1, 1, 0, 0, 1, tzinfo=timezone.utc)\n",
    "    }\n",
    "}\n",
    "pets_collection2=db['pets']\n",
    "#find the dog using filter\n",
    "young_dog=pets_collection2.find_one(filter=filter)\n",
    "print(\"One of the young dog is : \")\n",
    "# print result\n",
    "print (young_dog['name']+', and it was born on '+str(young_dog['birthday'])[:-15])"
   ]
  },
  {
   "cell_type": "code",
   "execution_count": null,
   "id": "fbb90d91-dd70-4ebc-9e28-8fdb51d26168",
   "metadata": {},
   "outputs": [],
   "source": []
  }
 ],
 "metadata": {
  "kernelspec": {
   "display_name": "Python 3 (ipykernel)",
   "language": "python",
   "name": "python3"
  },
  "language_info": {
   "codemirror_mode": {
    "name": "ipython",
    "version": 3
   },
   "file_extension": ".py",
   "mimetype": "text/x-python",
   "name": "python",
   "nbconvert_exporter": "python",
   "pygments_lexer": "ipython3",
   "version": "3.9.8"
  }
 },
 "nbformat": 4,
 "nbformat_minor": 5
}
