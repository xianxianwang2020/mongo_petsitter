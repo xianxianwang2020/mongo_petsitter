{
 "cells": [
  {
   "cell_type": "code",
   "execution_count": null,
   "id": "d6c6f724-7c04-492c-a33b-3dedcf32e068",
   "metadata": {},
   "outputs": [],
   "source": [
    "import urllib3,json, pymongo,certifi,datetime\n",
    "from datetime import datetime, timezone\n",
    "from operator import itemgetter\n",
    "# open username and password from another file.\n",
    "with open('C:\\\\Users\\\\xianx\\\\Documents\\\\credentials.json') as f:\n",
    "          data = json.load(f)\n",
    "          #username=data['username']\n",
    "          #password=data['password']\n",
    "          mongo_conn_str=data['mongodb']\n",
    "\n",
    "# connect to database  and verify it working. Can print lots stuff\n",
    "client=pymongo.MongoClient(mongo_conn_str,tlsAllowInvalidCertificates=True)\n",
    "#db=client.admin()\n",
    "# specify the database\n",
    "db=client[\"petsitters\"]\n",
    "serverStatusResult=db.command(\"serverStatus\")\n",
    "#print(serverStatusResult)\n"
   ]
  },
  {
   "cell_type": "code",
   "execution_count": null,
   "id": "e57ce57b-d636-4d53-8956-30805c9b5424",
   "metadata": {},
   "outputs": [],
   "source": [
    "client=pymongo.MongoClient(mongo_conn_str,tlsAllowInvalidCertificates=True)\n",
    "db=client[\"petsitters\"]\n",
    "pets_collection=db[\"pets\"]\n",
    "pets=pets_collection.find().sort('birthday')\n",
    "old_pets=pets[:10]\n",
    "\n",
    "# print out all dogs\n",
    "for pet in old_pets :\n",
    "          print(\"Below the top 10 eldest Pets :\")\n",
    "          print(\" .\"+pet['name']+' : '+pet['species']+' '+pet['gender']+' '+str(pet['birthday'])[:-15])"
   ]
  },
  {
   "cell_type": "code",
   "execution_count": null,
   "id": "b16d3ccc-5b44-4389-afb5-446c6864b3be",
   "metadata": {},
   "outputs": [],
   "source": []
  },
  {
   "cell_type": "code",
   "execution_count": null,
   "id": "3169b3ef-b550-48a0-a86c-edc72fb9e336",
   "metadata": {},
   "outputs": [],
   "source": []
  }
 ],
 "metadata": {
  "kernelspec": {
   "display_name": "Python 3 (ipykernel)",
   "language": "python",
   "name": "python3"
  },
  "language_info": {
   "codemirror_mode": {
    "name": "ipython",
    "version": 3
   },
   "file_extension": ".py",
   "mimetype": "text/x-python",
   "name": "python",
   "nbconvert_exporter": "python",
   "pygments_lexer": "ipython3",
   "version": "3.9.8"
  }
 },
 "nbformat": 4,
 "nbformat_minor": 5
}
